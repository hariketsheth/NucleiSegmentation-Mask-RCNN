{
 "cells": [
  {
   "cell_type": "markdown",
   "metadata": {},
   "source": [
    "Created on Aug 20, 2019\n",
    "\n",
    "@author:     Ruchika Verma\n",
    "\n",
    "Description: Nuclei segmentation using Mask-RCNN and based on Feature Pyramid Network (FPN) and a ResNet 50\n",
    "             backbone.\n",
    "            \n",
    "This model was trained using data from our TMI paper and MoNuSeg challenge\n",
    "  \n",
    "Please cite the following paper and our MoNuSeg (https://monuseg.grand-challenge.org/) challenge if you use\n",
    "this code-\n",
    "\n",
    "\n",
    "N. Kumar, R. Verma, S. Sharma, S. Bhargava, A. Vahadane and A. Sethi, \"A Dataset and a Technique for Generalized Nuclear Segmentation for Computational Pathology,\" in IEEE Transactions on Medical Imaging, \n",
    "vol. 36, no. 7, pp. 1550-1560, July 2017\n"
   ]
  },
  {
   "cell_type": "code",
   "execution_count": 2,
   "metadata": {},
   "outputs": [
    {
     "ename": "FileNotFoundError",
     "evalue": "Could not find module 'libopenslide-0.dll' (or one of its dependencies). Try using the full path with constructor syntax.",
     "output_type": "error",
     "traceback": [
      "\u001b[1;31m---------------------------------------------------------------------------\u001b[0m",
      "\u001b[1;31mFileNotFoundError\u001b[0m                         Traceback (most recent call last)",
      "Input \u001b[1;32mIn [2]\u001b[0m, in \u001b[0;36m<cell line: 2>\u001b[1;34m()\u001b[0m\n\u001b[0;32m      1\u001b[0m \u001b[38;5;66;03m#Process whole slide images\u001b[39;00m\n\u001b[1;32m----> 2\u001b[0m \u001b[38;5;28;01mimport\u001b[39;00m \u001b[38;5;21;01mopenslide\u001b[39;00m\n\u001b[0;32m      3\u001b[0m \u001b[38;5;28;01mfrom\u001b[39;00m \u001b[38;5;21;01mPIL\u001b[39;00m \u001b[38;5;28;01mimport\u001b[39;00m Image\n\u001b[0;32m      4\u001b[0m \u001b[38;5;28;01mimport\u001b[39;00m \u001b[38;5;21;01mskimage\u001b[39;00m\n",
      "File \u001b[1;32m~\\AppData\\Local\\Programs\\Python\\Python310\\lib\\site-packages\\openslide\\__init__.py:35\u001b[0m, in \u001b[0;36m<module>\u001b[1;34m\u001b[0m\n\u001b[0;32m     31\u001b[0m \u001b[38;5;28;01mexcept\u001b[39;00m \u001b[38;5;167;01mImportError\u001b[39;00m:\n\u001b[0;32m     32\u001b[0m     \u001b[38;5;66;03m# Python 2\u001b[39;00m\n\u001b[0;32m     33\u001b[0m     \u001b[38;5;28;01mfrom\u001b[39;00m \u001b[38;5;21;01mcollections\u001b[39;00m \u001b[38;5;28;01mimport\u001b[39;00m Mapping\n\u001b[1;32m---> 35\u001b[0m \u001b[38;5;28;01mfrom\u001b[39;00m \u001b[38;5;21;01mopenslide\u001b[39;00m \u001b[38;5;28;01mimport\u001b[39;00m lowlevel\n\u001b[0;32m     37\u001b[0m \u001b[38;5;66;03m# For the benefit of library users\u001b[39;00m\n\u001b[0;32m     38\u001b[0m \u001b[38;5;28;01mfrom\u001b[39;00m \u001b[38;5;21;01mopenslide\u001b[39;00m\u001b[38;5;21;01m.\u001b[39;00m\u001b[38;5;21;01mlowlevel\u001b[39;00m \u001b[38;5;28;01mimport\u001b[39;00m OpenSlideError, OpenSlideUnsupportedFormatError\n",
      "File \u001b[1;32m~\\AppData\\Local\\Programs\\Python\\Python310\\lib\\site-packages\\openslide\\lowlevel.py:43\u001b[0m, in \u001b[0;36m<module>\u001b[1;34m\u001b[0m\n\u001b[0;32m     40\u001b[0m \u001b[38;5;28;01mfrom\u001b[39;00m \u001b[38;5;21;01m.\u001b[39;00m \u001b[38;5;28;01mimport\u001b[39;00m _convert\n\u001b[0;32m     42\u001b[0m \u001b[38;5;28;01mif\u001b[39;00m platform\u001b[38;5;241m.\u001b[39msystem() \u001b[38;5;241m==\u001b[39m \u001b[38;5;124m'\u001b[39m\u001b[38;5;124mWindows\u001b[39m\u001b[38;5;124m'\u001b[39m:\n\u001b[1;32m---> 43\u001b[0m     _lib \u001b[38;5;241m=\u001b[39m \u001b[43mcdll\u001b[49m\u001b[38;5;241;43m.\u001b[39;49m\u001b[43mLoadLibrary\u001b[49m\u001b[43m(\u001b[49m\u001b[38;5;124;43m'\u001b[39;49m\u001b[38;5;124;43mlibopenslide-0.dll\u001b[39;49m\u001b[38;5;124;43m'\u001b[39;49m\u001b[43m)\u001b[49m\n\u001b[0;32m     44\u001b[0m \u001b[38;5;28;01melif\u001b[39;00m platform\u001b[38;5;241m.\u001b[39msystem() \u001b[38;5;241m==\u001b[39m \u001b[38;5;124m'\u001b[39m\u001b[38;5;124mDarwin\u001b[39m\u001b[38;5;124m'\u001b[39m:\n\u001b[0;32m     45\u001b[0m     \u001b[38;5;28;01mtry\u001b[39;00m:\n",
      "File \u001b[1;32m~\\AppData\\Local\\Programs\\Python\\Python310\\lib\\ctypes\\__init__.py:452\u001b[0m, in \u001b[0;36mLibraryLoader.LoadLibrary\u001b[1;34m(self, name)\u001b[0m\n\u001b[0;32m    451\u001b[0m \u001b[38;5;28;01mdef\u001b[39;00m \u001b[38;5;21mLoadLibrary\u001b[39m(\u001b[38;5;28mself\u001b[39m, name):\n\u001b[1;32m--> 452\u001b[0m     \u001b[38;5;28;01mreturn\u001b[39;00m \u001b[38;5;28;43mself\u001b[39;49m\u001b[38;5;241;43m.\u001b[39;49m\u001b[43m_dlltype\u001b[49m\u001b[43m(\u001b[49m\u001b[43mname\u001b[49m\u001b[43m)\u001b[49m\n",
      "File \u001b[1;32m~\\AppData\\Local\\Programs\\Python\\Python310\\lib\\ctypes\\__init__.py:374\u001b[0m, in \u001b[0;36mCDLL.__init__\u001b[1;34m(self, name, mode, handle, use_errno, use_last_error, winmode)\u001b[0m\n\u001b[0;32m    371\u001b[0m \u001b[38;5;28mself\u001b[39m\u001b[38;5;241m.\u001b[39m_FuncPtr \u001b[38;5;241m=\u001b[39m _FuncPtr\n\u001b[0;32m    373\u001b[0m \u001b[38;5;28;01mif\u001b[39;00m handle \u001b[38;5;129;01mis\u001b[39;00m \u001b[38;5;28;01mNone\u001b[39;00m:\n\u001b[1;32m--> 374\u001b[0m     \u001b[38;5;28mself\u001b[39m\u001b[38;5;241m.\u001b[39m_handle \u001b[38;5;241m=\u001b[39m \u001b[43m_dlopen\u001b[49m\u001b[43m(\u001b[49m\u001b[38;5;28;43mself\u001b[39;49m\u001b[38;5;241;43m.\u001b[39;49m\u001b[43m_name\u001b[49m\u001b[43m,\u001b[49m\u001b[43m \u001b[49m\u001b[43mmode\u001b[49m\u001b[43m)\u001b[49m\n\u001b[0;32m    375\u001b[0m \u001b[38;5;28;01melse\u001b[39;00m:\n\u001b[0;32m    376\u001b[0m     \u001b[38;5;28mself\u001b[39m\u001b[38;5;241m.\u001b[39m_handle \u001b[38;5;241m=\u001b[39m handle\n",
      "\u001b[1;31mFileNotFoundError\u001b[0m: Could not find module 'libopenslide-0.dll' (or one of its dependencies). Try using the full path with constructor syntax."
     ]
    }
   ],
   "source": [
    "#Process whole slide images\n",
    "import os\n",
    "os.add_dll_directory('/path/to/openslide/bin')\n",
    "import openslide\n",
    "from PIL import Image\n",
    "import skimage\n",
    "import imageio\n",
    "import os,sys\n",
    "import glob\n",
    "import numpy as np\n",
    "import matplotlib.pyplot as plt\n",
    "import scipy.io as sio\n",
    "from PIL import Image\n",
    "import scipy\n",
    "import scipy.ndimage"
   ]
  },
  {
   "cell_type": "code",
   "execution_count": null,
   "metadata": {},
   "outputs": [],
   "source": [
    "# Read svs files from the desired path\n",
    "data_path = '/media/vaid-computer/Ruchika TCGA images/TCGA_FFPES'\n",
    "files=glob.glob('/media/vaid-computer/Ruchika TCGA images/TCGA_FFPES/*.svs')\n",
    "len(files)"
   ]
  },
  {
   "cell_type": "code",
   "execution_count": null,
   "metadata": {},
   "outputs": [],
   "source": [
    "# Reading a single svs file\n",
    "i = 400\n",
    "\n",
    "# Read level 3 of an svs image\n",
    "image_name = files[i]\n",
    "image_name\n",
    "img = openslide.OpenSlide(image_name)\n",
    "level = 3 #For easy visualization\n",
    "image = np.array(img.read_region((0,0),level,img.level_dimensions[level]).convert('RGB'))\n",
    "plt.imshow(image)\n",
    "plt.show()\n",
    "print(image.shape)"
   ]
  },
  {
   "cell_type": "code",
   "execution_count": null,
   "metadata": {},
   "outputs": [],
   "source": [
    "#Extract 1000*1000 patch from a random x,y location\n",
    "x,y = 1000,700\n",
    "patch_size = 1000\n",
    "im_patch = np.array(img.read_region((y*2**(level+2),x*2**(level+2)),0,(patch_size,patch_size)).convert('RGB')) \n",
    "plt.imshow(im_patch)"
   ]
  },
  {
   "cell_type": "code",
   "execution_count": null,
   "metadata": {},
   "outputs": [],
   "source": [
    "# Import Mask RCNN and load my weights of my trained model\n",
    "from mrcnn import utils\n",
    "from mrcnn import visualize\n",
    "from mrcnn.visualize import display_images\n",
    "import mrcnn.model as modellib\n",
    "from mrcnn.model import log\n",
    "import nucleus\n",
    "import tensorflow as tf\n",
    "config = nucleus.NucleusInferenceConfig()\n",
    "config.display()\n",
    "DEVICE = \"/gpu:0\"  # /cpu:0 or /gpu:0\n",
    "with tf.device(DEVICE):\n",
    "    nmodel = modellib.MaskRCNN(mode=\"inference\",\n",
    "                              model_dir=os.getcwd(),\n",
    "                              config=config)\n",
    "weights_path = \"/media/vaid-computer/Ruchika TCGA images/Nuc_Seg/mask_rcnn_weights.h5\"\n",
    "nmodel.load_weights(weights_path, by_name=True)  "
   ]
  },
  {
   "cell_type": "code",
   "execution_count": null,
   "metadata": {},
   "outputs": [],
   "source": [
    "# Run detection and predict nuclei on a patch\n",
    "im_patch = skimage.exposure.equalize_adapthist(im_patch)\n",
    "im_patch = skimage.exposure.adjust_log(im_patch)\n",
    "im_patch = im_patch*255.0\n",
    "results = nmodel.detect([im_patch], verbose=1)\n",
    "r = results[0]\n",
    "visualize.display_instances(im_patch, r['rois'], r['masks'],r['class_ids'],['BG', 'Nuclei'],\n",
    "                      figsize=(16, 16), ax=None,\n",
    "                      show_mask=False, show_bbox=False,\n",
    "                      title=\"Predictions\")  "
   ]
  },
  {
   "cell_type": "code",
   "execution_count": null,
   "metadata": {},
   "outputs": [],
   "source": [
    "# Generate an n-ary nuclei mask \n",
    "individual_nuclei = r['masks']\n",
    "predicted_nuclei = np.zeros((patch_size,patch_size), dtype = int)\n",
    "n_nuc = 0\n",
    "for k in range(individual_nuclei.shape[2]):\n",
    "    n_nuc += 1\n",
    "    nuc_mask = r['masks'][:,:,k]\n",
    "    predicted_nuclei += (n_nuc)*nuc_mask\n",
    "plt.imshow(predicted_nuclei)\n"
   ]
  }
 ],
 "metadata": {
  "kernelspec": {
   "display_name": "Python 3 (ipykernel)",
   "language": "python",
   "name": "python3"
  },
  "language_info": {
   "codemirror_mode": {
    "name": "ipython",
    "version": 3
   },
   "file_extension": ".py",
   "mimetype": "text/x-python",
   "name": "python",
   "nbconvert_exporter": "python",
   "pygments_lexer": "ipython3",
   "version": "3.10.4"
  }
 },
 "nbformat": 4,
 "nbformat_minor": 2
}
